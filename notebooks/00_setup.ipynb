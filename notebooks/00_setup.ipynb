{
 "cells": [
  {
   "cell_type": "code",
   "execution_count": null,
   "metadata": {
    "colab": {
     "base_uri": "https://localhost:8080/"
    },
    "executionInfo": {
     "elapsed": 27195,
     "status": "ok",
     "timestamp": 1754118997163,
     "user": {
      "displayName": "Random Explorer",
      "userId": "15464795966244840256"
     },
     "user_tz": 240
    },
    "id": "DVF8XXwroZ5M",
    "outputId": "37850462-8b18-4826-b1c0-696156b88a0a"
   },
   "outputs": [
    {
     "name": "stdout",
     "output_type": "stream",
     "text": [
      "Mounted at /content/drive\n"
     ]
    }
   ],
   "source": [
    "from google.colab import drive\n",
    "drive.mount('/content/drive')"
   ]
  },
  {
   "cell_type": "code",
   "execution_count": null,
   "metadata": {
    "id": "MWaAaII7oy1T"
   },
   "outputs": [],
   "source": [
    "!mkdir -p /content/drive/MyDrive/endoease_data\n"
   ]
  },
  {
   "cell_type": "code",
   "execution_count": null,
   "metadata": {
    "id": "psTU9Sf6o_Rb"
   },
   "outputs": [],
   "source": [
    "!pip install -q pandas scikit-learn xgboost joblib fastapi uvicorn mlxtend\n"
   ]
  },
  {
   "cell_type": "code",
   "execution_count": null,
   "metadata": {
    "id": "71HlrvCmw2Ai"
   },
   "outputs": [],
   "source": []
  }
 ],
 "metadata": {
  "colab": {
   "authorship_tag": "ABX9TyO1DdwVauL68bbWzw57m+hN",
   "provenance": []
  },
  "kernelspec": {
   "display_name": "Python 3",
   "name": "python3"
  },
  "language_info": {
   "name": "python"
  }
 },
 "nbformat": 4,
 "nbformat_minor": 0
}
