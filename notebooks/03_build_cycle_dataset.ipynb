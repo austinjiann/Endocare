{
 "cells": [
  {
   "cell_type": "code",
   "execution_count": 3,
   "id": "98b044c8",
   "metadata": {},
   "outputs": [
    {
     "name": "stdout",
     "output_type": "stream",
     "text": [
      "✔ model saved to models/flare_cycle_xgb.pkl\n"
     ]
    }
   ],
   "source": [
    "# 03_build_cycle_dataset.py   ← or ipynb cell\n",
    "import pandas as pd, numpy as np, pathlib, joblib\n",
    "from xgboost import XGBClassifier\n",
    "\n",
    "DATA   = pathlib.Path(\"data\")\n",
    "MODELS = pathlib.Path(\"models\")\n",
    "DATA.mkdir(exist_ok=True)\n",
    "MODELS.mkdir(exist_ok=True)\n",
    "\n",
    "# 1. load cleaned sleep  ✅ CHANGE HERE\n",
    "sleep = pd.read_csv(DATA / \"sleep_clean.csv\")\n",
    "\n",
    "# 2. synthesize extra columns\n",
    "n   = len(sleep)\n",
    "rng = np.random.default_rng(42)\n",
    "sleep[\"cycle_day\"]        = rng.integers(1, 31, n)\n",
    "sleep[\"processed_sugar\"]  = rng.integers(0, 2, n)\n",
    "sleep[\"caffeine_evening\"] = rng.integers(0, 2, n)\n",
    "sleep[\"pain_today\"]       = rng.integers(0, 11, n)\n",
    "\n",
    "# 3. label\n",
    "cond = (\n",
    "    (sleep.duration_h < 6) |\n",
    "    (sleep.cycle_day > 26) |\n",
    "    (sleep.processed_sugar == 1)\n",
    ")\n",
    "sleep[\"flare_tomorrow\"] = cond.shift(-1).fillna(0).astype(int)\n",
    "\n",
    "# 4. (optional) save synthetic dataset as CSV—no pyarrow needed\n",
    "sleep.to_csv(DATA / \"train_cycle.csv\", index=False)\n",
    "\n",
    "# 5. train model\n",
    "X = sleep[[\n",
    "    \"duration_h\", \"quality_pct\", \"cycle_day\",\n",
    "    \"processed_sugar\", \"caffeine_evening\", \"pain_today\"\n",
    "]]\n",
    "y = sleep[\"flare_tomorrow\"]\n",
    "model = XGBClassifier(max_depth=4, n_estimators=150, random_state=42)\n",
    "model.fit(X, y)\n",
    "\n",
    "# 6. dump model\n",
    "joblib.dump(model, MODELS / \"flare_cycle_xgb.pkl\")\n",
    "print(\"✔ model saved to models/flare_cycle_xgb.pkl\")\n"
   ]
  },
  {
   "cell_type": "markdown",
   "id": "348db609",
   "metadata": {},
   "source": []
  },
  {
   "cell_type": "code",
   "execution_count": null,
   "id": "591eacd9",
   "metadata": {},
   "outputs": [],
   "source": [
    "from xgboost import XGBClassifier\n",
    "import joblib, pandas as pd, numpy as np\n",
    "df = pd.read_parquet('data/train_cycle.parquet')\n",
    "X = df[['duration_h','quality_pct','cycle_day',\n",
    "        'processed_sugar','caffeine_evening','pain_today']]\n",
    "y = df['flare_tomorrow']\n",
    "model = XGBClassifier(max_depth=4, n_estimators=150).fit(X, y)\n",
    "joblib.dump(model, 'models/flare_cycle_xgb.pkl')\n"
   ]
  }
 ],
 "metadata": {
  "kernelspec": {
   "display_name": ".venv",
   "language": "python",
   "name": "python3"
  },
  "language_info": {
   "codemirror_mode": {
    "name": "ipython",
    "version": 3
   },
   "file_extension": ".py",
   "mimetype": "text/x-python",
   "name": "python",
   "nbconvert_exporter": "python",
   "pygments_lexer": "ipython3",
   "version": "3.13.3"
  }
 },
 "nbformat": 4,
 "nbformat_minor": 5
}
